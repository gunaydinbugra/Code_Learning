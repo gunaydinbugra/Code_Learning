{
 "cells": [
  {
   "cell_type": "code",
   "execution_count": 2,
   "id": "30261509-b4e9-4f49-b109-f0517ec5c0cc",
   "metadata": {
    "tags": []
   },
   "outputs": [],
   "source": [
    "import numpy as np\n",
    "import pandas as pd"
   ]
  },
  {
   "cell_type": "markdown",
   "id": "faef2b8a-0298-4cf6-be49-88f4b5205eb9",
   "metadata": {},
   "source": [
    "## Creating"
   ]
  },
  {
   "cell_type": "code",
   "execution_count": 4,
   "id": "86fa92d9-de56-4c40-84a6-547ee58f7db0",
   "metadata": {
    "tags": []
   },
   "outputs": [
    {
     "name": "stdout",
     "output_type": "stream",
     "text": [
      "[1 2 3 4 5]\n",
      "<class 'numpy.ndarray'>\n"
     ]
    }
   ],
   "source": [
    "arr = np.array([1, 2, 3, 4, 5])\n",
    "print(arr)\n",
    "print(type(arr))"
   ]
  },
  {
   "cell_type": "code",
   "execution_count": 5,
   "id": "c67c773a-05b1-45e7-b2f3-4265df1fe6d6",
   "metadata": {
    "tags": []
   },
   "outputs": [
    {
     "name": "stdout",
     "output_type": "stream",
     "text": [
      "[1 2 3 4 5]\n"
     ]
    }
   ],
   "source": [
    "arr = np.array((1, 2, 3, 4, 5))\n",
    "print(arr)"
   ]
  },
  {
   "cell_type": "code",
   "execution_count": 6,
   "id": "a246c492-7da5-47c7-83c9-c1de3da1edeb",
   "metadata": {
    "tags": []
   },
   "outputs": [
    {
     "name": "stdout",
     "output_type": "stream",
     "text": [
      "42\n"
     ]
    }
   ],
   "source": [
    "arr = np.array(42)\n",
    "print(arr)"
   ]
  },
  {
   "cell_type": "code",
   "execution_count": 7,
   "id": "3ae59446-68ed-4cfd-bb4d-287fd5c5abd3",
   "metadata": {
    "tags": []
   },
   "outputs": [
    {
     "name": "stdout",
     "output_type": "stream",
     "text": [
      "[1 2 3 4 5]\n"
     ]
    }
   ],
   "source": [
    "arr1 = np.array([1, 2, 3, 4, 5])\n",
    "print(arr1)"
   ]
  },
  {
   "cell_type": "code",
   "execution_count": 9,
   "id": "8db4ce60-393a-423f-b6bf-2dbb1bacfe2e",
   "metadata": {
    "tags": []
   },
   "outputs": [
    {
     "name": "stdout",
     "output_type": "stream",
     "text": [
      "[[1 2 3]\n",
      " [4 5 6]]\n"
     ]
    }
   ],
   "source": [
    "arr2 = np.array([[1, 2, 3],[4, 5, 6]])\n",
    "print(arr2)"
   ]
  },
  {
   "cell_type": "code",
   "execution_count": 10,
   "id": "788da52b-9b03-4aca-ba73-221bcc64daa0",
   "metadata": {
    "tags": []
   },
   "outputs": [
    {
     "name": "stdout",
     "output_type": "stream",
     "text": [
      "[[[1 2 3]\n",
      "  [4 5 6]]\n",
      "\n",
      " [[1 2 3]\n",
      "  [1 2 3]]]\n"
     ]
    }
   ],
   "source": [
    "arr3 = np.array([[[1, 2, 3],[4, 5, 6]],[[1, 2, 3],[1, 2, 3]]])\n",
    "print(arr3)"
   ]
  },
  {
   "cell_type": "code",
   "execution_count": 11,
   "id": "d8462981-151b-46bf-8b88-9360641b578b",
   "metadata": {
    "tags": []
   },
   "outputs": [
    {
     "name": "stdout",
     "output_type": "stream",
     "text": [
      "0\n",
      "1\n",
      "2\n",
      "3\n"
     ]
    }
   ],
   "source": [
    "print(arr.ndim)\n",
    "print(arr1.ndim)\n",
    "print(arr2.ndim)\n",
    "print(arr3.ndim)"
   ]
  },
  {
   "cell_type": "code",
   "execution_count": 13,
   "id": "cdefd794-72d2-4d18-8cd4-490e863531f2",
   "metadata": {
    "tags": []
   },
   "outputs": [
    {
     "name": "stdout",
     "output_type": "stream",
     "text": [
      "[[[[1 2 3 4]]]]\n",
      "Number of dimensions : 4\n"
     ]
    }
   ],
   "source": [
    "arr4 = np.array([1, 2, 3, 4], ndmin = 4)\n",
    "print(arr4)\n",
    "print(\"Number of dimensions :\", arr4.ndim)"
   ]
  },
  {
   "cell_type": "markdown",
   "id": "1c82acd9-063c-46c6-a4c5-4b2edef95b94",
   "metadata": {},
   "source": [
    "## Indexing"
   ]
  },
  {
   "cell_type": "code",
   "execution_count": 23,
   "id": "007a1c5e-fcd3-46c7-9284-bb1e1dc7ad56",
   "metadata": {
    "tags": []
   },
   "outputs": [
    {
     "name": "stdout",
     "output_type": "stream",
     "text": [
      "3\n"
     ]
    }
   ],
   "source": [
    "print(arr1[2])"
   ]
  },
  {
   "cell_type": "code",
   "execution_count": 22,
   "id": "2d5fb198-9c54-41aa-af0d-ae2ae325d4b8",
   "metadata": {
    "tags": []
   },
   "outputs": [
    {
     "name": "stdout",
     "output_type": "stream",
     "text": [
      "7\n"
     ]
    }
   ],
   "source": [
    "print(arr1[2]+arr1[3])"
   ]
  },
  {
   "cell_type": "code",
   "execution_count": 26,
   "id": "fe40a04f-0eb4-402d-9415-44ab4fa75a2f",
   "metadata": {
    "tags": []
   },
   "outputs": [
    {
     "name": "stdout",
     "output_type": "stream",
     "text": [
      "2nd element on 1st row:  2\n"
     ]
    }
   ],
   "source": [
    "print(\"2nd element on 1st row: \", arr2[0,1])"
   ]
  },
  {
   "cell_type": "code",
   "execution_count": 27,
   "id": "ae0307d8-54fe-4d73-a0be-37636a0a9f66",
   "metadata": {
    "tags": []
   },
   "outputs": [
    {
     "name": "stdout",
     "output_type": "stream",
     "text": [
      "3rd element of second array of the first array:  6\n"
     ]
    }
   ],
   "source": [
    "print(\"3rd element of second array of the first array: \", arr3[0,1,2])"
   ]
  },
  {
   "cell_type": "code",
   "execution_count": 28,
   "id": "cad2ccfa-6c02-4bf2-ae78-33f6b0d979c4",
   "metadata": {
    "tags": []
   },
   "outputs": [
    {
     "name": "stdout",
     "output_type": "stream",
     "text": [
      "Last element from 2nd dimension:  6\n"
     ]
    }
   ],
   "source": [
    "print(\"Last element from 2nd dimension: \", arr2[1,-1])"
   ]
  },
  {
   "cell_type": "markdown",
   "id": "43108ef0-f735-413e-b7da-d9faded41cb1",
   "metadata": {},
   "source": [
    "## Slicing"
   ]
  },
  {
   "cell_type": "code",
   "execution_count": 30,
   "id": "98f6263b-88fd-46db-b5d2-07df5ec5afee",
   "metadata": {
    "tags": []
   },
   "outputs": [
    {
     "name": "stdout",
     "output_type": "stream",
     "text": [
      "[2 3 4 5]\n"
     ]
    }
   ],
   "source": [
    "# Slice elements from index 1 to index 5 from the following array\n",
    "print(arr1[1:5])"
   ]
  },
  {
   "cell_type": "code",
   "execution_count": 32,
   "id": "42c908be-09b5-435c-8f75-a221ef3b49cc",
   "metadata": {
    "tags": []
   },
   "outputs": [
    {
     "name": "stdout",
     "output_type": "stream",
     "text": [
      "[5]\n"
     ]
    }
   ],
   "source": [
    "# Slice elements from index 1 to index 5 from the following array\n",
    "print(arr1[4:])"
   ]
  },
  {
   "cell_type": "code",
   "execution_count": 36,
   "id": "2d0e6e50-ba6b-4dae-adfe-7f03275d79f6",
   "metadata": {
    "tags": []
   },
   "outputs": [
    {
     "name": "stdout",
     "output_type": "stream",
     "text": [
      "[3 4]\n"
     ]
    }
   ],
   "source": [
    "# Slice from the index 3 from the end to index 1 from the end\n",
    "print(arr1[-3: -1])"
   ]
  },
  {
   "cell_type": "code",
   "execution_count": 38,
   "id": "9762d77d-df2d-404b-8ac0-d1eb20e4a0e1",
   "metadata": {
    "tags": []
   },
   "outputs": [
    {
     "name": "stdout",
     "output_type": "stream",
     "text": [
      "[2 4]\n"
     ]
    }
   ],
   "source": [
    "# Return every other element from index 1 to index 5\n",
    "print(arr1[1: 5: 2])"
   ]
  },
  {
   "cell_type": "code",
   "execution_count": 42,
   "id": "996a5ad4-cbd4-4a1b-886a-d8a1846580ba",
   "metadata": {
    "tags": []
   },
   "outputs": [
    {
     "name": "stdout",
     "output_type": "stream",
     "text": [
      "[1 3 5]\n"
     ]
    }
   ],
   "source": [
    "# Return every other element from the entire array\n",
    "print(arr1[::2])"
   ]
  },
  {
   "cell_type": "code",
   "execution_count": 47,
   "id": "26fed383-6f96-4b0f-b45d-6fa7a768100d",
   "metadata": {
    "tags": []
   },
   "outputs": [
    {
     "name": "stdout",
     "output_type": "stream",
     "text": [
      "[5 6]\n"
     ]
    }
   ],
   "source": [
    "# From the second element, slice elements from index 1 to index 4 (not included)\n",
    "print(arr2[1, 1:4])"
   ]
  },
  {
   "cell_type": "code",
   "execution_count": 43,
   "id": "f52be6f4-b605-4d9b-90c7-510bc291a15a",
   "metadata": {
    "tags": []
   },
   "outputs": [
    {
     "name": "stdout",
     "output_type": "stream",
     "text": [
      "[3 6]\n"
     ]
    }
   ],
   "source": [
    "# From both elements, return index 2\n",
    "print(arr2[0: 2, 2])"
   ]
  },
  {
   "cell_type": "code",
   "execution_count": 49,
   "id": "383b7e79-32d7-4510-8af2-821a602126f3",
   "metadata": {
    "tags": []
   },
   "outputs": [
    {
     "name": "stdout",
     "output_type": "stream",
     "text": [
      "[[2 3]\n",
      " [5 6]]\n"
     ]
    }
   ],
   "source": [
    "# From both elements, slice index 1 to index 4 (not included), this will return a 2-D array\n",
    "print(arr2[0: 2, 1: 4])"
   ]
  },
  {
   "cell_type": "markdown",
   "id": "e44892f1-0043-4e5f-b28e-d162b0b3591b",
   "metadata": {},
   "source": [
    "## Data Types"
   ]
  },
  {
   "cell_type": "code",
   "execution_count": 50,
   "id": "067ac245-7a4a-43cd-8928-12c171814f7b",
   "metadata": {
    "tags": []
   },
   "outputs": [
    {
     "name": "stdout",
     "output_type": "stream",
     "text": [
      "[1.32 4.32 4.13]\n"
     ]
    }
   ],
   "source": [
    "arr = np.array([1.32, 4.32, 4.13], dtype = np.float64)\n",
    "print(arr)"
   ]
  },
  {
   "cell_type": "code",
   "execution_count": null,
   "id": "45e36ee8-26e1-4eb0-9b3b-16b027f9889e",
   "metadata": {},
   "outputs": [],
   "source": []
  },
  {
   "cell_type": "markdown",
   "id": "5aa0c9b1-6529-4e0a-86f8-9ef9487db14e",
   "metadata": {},
   "source": [
    "## Data Cleaning"
   ]
  },
  {
   "cell_type": "code",
   "execution_count": 51,
   "id": "55f22c96-263a-4c85-b379-a18cab345386",
   "metadata": {
    "tags": []
   },
   "outputs": [
    {
     "name": "stdout",
     "output_type": "stream",
     "text": [
      "Original array: [ 1. nan  3. nan  5.]\n",
      "NaN mask: [False  True False  True False]\n"
     ]
    }
   ],
   "source": [
    "array_with_nan = np.array([1.0, np.nan, 3.0, np.nan, 5.0])\n",
    "nan_mask = np.isnan(array_with_nan)\n",
    "print(\"Original array:\", array_with_nan)\n",
    "print(\"NaN mask:\", nan_mask)"
   ]
  },
  {
   "cell_type": "code",
   "execution_count": null,
   "id": "b5a251e1-6e1e-4078-b754-4296950c2569",
   "metadata": {},
   "outputs": [],
   "source": []
  }
 ],
 "metadata": {
  "kernelspec": {
   "display_name": "Python 3 (ipykernel)",
   "language": "python",
   "name": "python3"
  },
  "language_info": {
   "codemirror_mode": {
    "name": "ipython",
    "version": 3
   },
   "file_extension": ".py",
   "mimetype": "text/x-python",
   "name": "python",
   "nbconvert_exporter": "python",
   "pygments_lexer": "ipython3",
   "version": "3.11.5"
  }
 },
 "nbformat": 4,
 "nbformat_minor": 5
}
