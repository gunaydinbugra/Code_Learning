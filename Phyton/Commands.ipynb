{
 "cells": [
  {
   "cell_type": "markdown",
   "id": "53bc5d99-cbc7-4e31-b29d-a7f08dd54a41",
   "metadata": {
    "tags": []
   },
   "source": [
    "## Print\n"
   ]
  },
  {
   "cell_type": "code",
   "execution_count": 12,
   "id": "366a3e1a-ddfc-45bc-a86f-99ff9fcf5949",
   "metadata": {
    "tags": []
   },
   "outputs": [
    {
     "name": "stdout",
     "output_type": "stream",
     "text": [
      "Hello World\n"
     ]
    }
   ],
   "source": [
    "print(\"Hello World\")"
   ]
  },
  {
   "cell_type": "code",
   "execution_count": 11,
   "id": "405867fa-61d1-45c3-916a-d6d65334c7e7",
   "metadata": {
    "tags": []
   },
   "outputs": [
    {
     "name": "stdout",
     "output_type": "stream",
     "text": [
      "merhaba: 5\n"
     ]
    }
   ],
   "source": [
    "a = 3;\n",
    "print(f\"merhaba: {a}\")"
   ]
  },
  {
   "cell_type": "code",
   "execution_count": 13,
   "id": "d5c1f41c-0372-4616-b735-8f9cc71ad494",
   "metadata": {
    "tags": []
   },
   "outputs": [
    {
     "name": "stdout",
     "output_type": "stream",
     "text": [
      "<class 'int'>\n"
     ]
    }
   ],
   "source": [
    "print(type(a))"
   ]
  },
  {
   "cell_type": "markdown",
   "id": "0a7d0d95-6171-4231-afd9-784caec06c64",
   "metadata": {},
   "source": [
    "## Loop"
   ]
  },
  {
   "cell_type": "code",
   "execution_count": 2,
   "id": "dc48da77-fd46-4c6d-9963-69fcb2218d17",
   "metadata": {
    "tags": []
   },
   "outputs": [
    {
     "name": "stdout",
     "output_type": "stream",
     "text": [
      "4\n",
      "5\n",
      "3\n"
     ]
    }
   ],
   "source": [
    "for i in range (1,3):\n",
    "    print(a + i)\n",
    "print(a)"
   ]
  },
  {
   "cell_type": "code",
   "execution_count": 3,
   "id": "b707109e-c93d-4ad0-8e41-f388abdeb095",
   "metadata": {
    "tags": []
   },
   "outputs": [
    {
     "name": "stdout",
     "output_type": "stream",
     "text": [
      "4\n",
      "5\n"
     ]
    }
   ],
   "source": [
    "while a < 5:\n",
    "    a += 1;\n",
    "    print(a);"
   ]
  }
 ],
 "metadata": {
  "kernelspec": {
   "display_name": "Python 3 (ipykernel)",
   "language": "python",
   "name": "python3"
  },
  "language_info": {
   "codemirror_mode": {
    "name": "ipython",
    "version": 3
   },
   "file_extension": ".py",
   "mimetype": "text/x-python",
   "name": "python",
   "nbconvert_exporter": "python",
   "pygments_lexer": "ipython3",
   "version": "3.11.5"
  }
 },
 "nbformat": 4,
 "nbformat_minor": 5
}
