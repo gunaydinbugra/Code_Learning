{
 "cells": [
  {
   "cell_type": "code",
   "execution_count": 1,
   "id": "1ac6555b-b96c-4eb0-88e9-8a770fd3e6da",
   "metadata": {
    "tags": []
   },
   "outputs": [],
   "source": [
    "import pandas as pd"
   ]
  },
  {
   "cell_type": "markdown",
   "id": "0268a0fa-3fd0-48d2-bee4-cb2c06e81a4d",
   "metadata": {},
   "source": [
    "## Series"
   ]
  },
  {
   "cell_type": "code",
   "execution_count": 4,
   "id": "411cb9b1-87e0-4d99-a96b-6ad0c988ba56",
   "metadata": {
    "tags": []
   },
   "outputs": [
    {
     "name": "stdout",
     "output_type": "stream",
     "text": [
      "     name  number\n",
      "0   Bugra       1\n",
      "1  Bertug       2\n",
      "2   Altug       3\n"
     ]
    }
   ],
   "source": [
    "mydataset = {'name' : [\"Bugra\", \"Bertug\", \"Altug\"], 'number' : [1, 2, 3]}\n",
    "myvar = pd.DataFrame(mydataset)\n",
    "print(myvar)"
   ]
  },
  {
   "cell_type": "code",
   "execution_count": 5,
   "id": "39ef1683-5927-494f-b080-8d0c2c309f98",
   "metadata": {
    "tags": []
   },
   "outputs": [
    {
     "name": "stdout",
     "output_type": "stream",
     "text": [
      "<class 'dict'>\n"
     ]
    }
   ],
   "source": [
    "print(type(mydataset))"
   ]
  },
  {
   "cell_type": "code",
   "execution_count": 12,
   "id": "ae2ceb2d-51f1-4bf3-85eb-e05c965712a0",
   "metadata": {
    "tags": []
   },
   "outputs": [
    {
     "name": "stdout",
     "output_type": "stream",
     "text": [
      "0    3\n",
      "1    4\n",
      "2    5\n",
      "3    6\n",
      "dtype: int64\n"
     ]
    }
   ],
   "source": [
    "a = [3, 4, 5, 6]\n",
    "myvar1 = pd.Series(a)\n",
    "print(myvar1)"
   ]
  },
  {
   "cell_type": "code",
   "execution_count": 13,
   "id": "c7ba94a9-bf8c-4efa-b054-c25ea62cda55",
   "metadata": {
    "tags": []
   },
   "outputs": [
    {
     "name": "stdout",
     "output_type": "stream",
     "text": [
      "4\n"
     ]
    }
   ],
   "source": [
    "print(myvar1[1])"
   ]
  },
  {
   "cell_type": "code",
   "execution_count": 18,
   "id": "958399c2-4d3b-4e2c-a510-6991d4027755",
   "metadata": {
    "tags": []
   },
   "outputs": [
    {
     "name": "stdout",
     "output_type": "stream",
     "text": [
      "x    3\n",
      "y    4\n",
      "z    5\n",
      "t    6\n",
      "dtype: int64\n"
     ]
    }
   ],
   "source": [
    "myvar1 = pd.Series(a, index = [\"x\", \"y\", \"z\", \"t\"])\n",
    "print(myvar1)"
   ]
  },
  {
   "cell_type": "code",
   "execution_count": 19,
   "id": "59677cdd-fd88-4a03-9243-3a135f44fa40",
   "metadata": {
    "tags": []
   },
   "outputs": [
    {
     "name": "stdout",
     "output_type": "stream",
     "text": [
      "3\n"
     ]
    }
   ],
   "source": [
    "print(myvar1[\"x\"])"
   ]
  },
  {
   "cell_type": "code",
   "execution_count": 24,
   "id": "ed9668c4-9c2b-4a0b-a095-5a9bdace7555",
   "metadata": {
    "tags": []
   },
   "outputs": [
    {
     "name": "stdout",
     "output_type": "stream",
     "text": [
      "day1    420\n",
      "day2    220\n",
      "day3    250\n",
      "dtype: int64\n"
     ]
    }
   ],
   "source": [
    "calories = {\"day1\" : 420, \"day2\" : 220, \"day3\" : 250}\n",
    "myvar2 = pd.Series(calories)\n",
    "print(myvar2)"
   ]
  },
  {
   "cell_type": "markdown",
   "id": "4cca048e-e139-4c76-b08c-e4ae018fd8a5",
   "metadata": {},
   "source": [
    "## DataFrames"
   ]
  },
  {
   "cell_type": "code",
   "execution_count": 25,
   "id": "9371c633-27b5-44a8-8830-84724020f8d8",
   "metadata": {
    "tags": []
   },
   "outputs": [
    {
     "name": "stdout",
     "output_type": "stream",
     "text": [
      "   calories  duration\n",
      "0       300       250\n",
      "1       310       260\n",
      "2       320       270\n"
     ]
    }
   ],
   "source": [
    "data = {\"calories\": [300, 310, 320], \"duration\": [250, 260, 270]}\n",
    "myvar3 = pd.DataFrame(data)\n",
    "print(myvar3)"
   ]
  },
  {
   "cell_type": "code",
   "execution_count": 29,
   "id": "2e3762e5-a781-4fdb-ad62-50ff0d04173e",
   "metadata": {
    "tags": []
   },
   "outputs": [
    {
     "name": "stdout",
     "output_type": "stream",
     "text": [
      "   calories  duration\n",
      "x       300       250\n",
      "y       310       260\n",
      "z       320       270\n"
     ]
    }
   ],
   "source": [
    "myvar3 = pd.DataFrame(data, index = [\"x\", \"y\", \"z\"])\n",
    "print(myvar3)"
   ]
  },
  {
   "cell_type": "code",
   "execution_count": 32,
   "id": "ef829a57-21d9-45c9-a027-c7b315cfa758",
   "metadata": {
    "tags": []
   },
   "outputs": [
    {
     "name": "stdout",
     "output_type": "stream",
     "text": [
      "calories    300\n",
      "duration    250\n",
      "Name: x, dtype: int64\n"
     ]
    }
   ],
   "source": [
    "print(myvar3.loc[\"x\"])"
   ]
  },
  {
   "cell_type": "code",
   "execution_count": 42,
   "id": "e77ff7af-4d74-4632-82cc-fb381c855a03",
   "metadata": {
    "tags": []
   },
   "outputs": [
    {
     "name": "stdout",
     "output_type": "stream",
     "text": [
      "   calories  duration\n",
      "x       300       250\n",
      "y       310       260\n"
     ]
    }
   ],
   "source": [
    "print(myvar3.loc[[\"x\", \"y\"]])"
   ]
  },
  {
   "cell_type": "code",
   "execution_count": 46,
   "id": "cc7273b9-21f7-4f2d-abcc-b905aa022ea8",
   "metadata": {
    "tags": []
   },
   "outputs": [
    {
     "name": "stdout",
     "output_type": "stream",
     "text": [
      "<bound method DataFrame.to_string of    calories  duration\n",
      "x       300       250\n",
      "y       310       260\n",
      "z       320       270>\n"
     ]
    }
   ],
   "source": [
    "print(myvar3.to_string)"
   ]
  },
  {
   "cell_type": "markdown",
   "id": "386b3bf2-c323-412e-942c-ab9ef1774028",
   "metadata": {},
   "source": [
    "## Read CSV"
   ]
  },
  {
   "cell_type": "code",
   "execution_count": 64,
   "id": "33558b73-3403-45a5-832d-70803d5b95ef",
   "metadata": {
    "tags": []
   },
   "outputs": [
    {
     "name": "stdout",
     "output_type": "stream",
     "text": [
      "   1;1;1;1;1;1;1\n",
      "0  2;2;2;2;2;2;2\n",
      "1  4;4;4;4;4;4;4\n",
      "2  4;4;4;4;4;4;4\n",
      "3  5;5;5;5;5;5;5\n",
      "4  6;6;6;6;6;6;6\n",
      "5  7;7;7;7;7;7;7\n"
     ]
    }
   ],
   "source": [
    "df = pd.read_csv('test_excel.csv')\n",
    "print(df.to_string())"
   ]
  },
  {
   "cell_type": "code",
   "execution_count": 10,
   "id": "3420491f-80d1-47de-ad68-1e776495deae",
   "metadata": {
    "tags": []
   },
   "outputs": [
    {
     "name": "stdout",
     "output_type": "stream",
     "text": [
      "   33  00;3  00;1 00;1.1 00;1.2 00;1.3 00;1.4   00\n",
      "0   2  00;2  00;2   00;2   00;2   00;2   00;2  0.0\n",
      "1   4  00;4  00;4   00;4   00;4   00;4   00;4  0.0\n",
      "2   2  00;4  00;4   00;4   00;4  00;;4     00  NaN\n",
      "3   5  00;5  00;5   00;5   00;7   00;5   00;5  0.0\n",
      "4   6  00;6  00;6   00;6  00;;6   00;6     00  NaN\n",
      "5   7  00;7  00;7   00;7  00;;7   00;7     00  NaN\n"
     ]
    }
   ],
   "source": [
    "print(df)"
   ]
  },
  {
   "cell_type": "code",
   "execution_count": 66,
   "id": "0f5561be-2173-4a48-9daa-0c9b8bbd9122",
   "metadata": {
    "tags": []
   },
   "outputs": [
    {
     "name": "stdout",
     "output_type": "stream",
     "text": [
      "60\n"
     ]
    }
   ],
   "source": [
    "print(pd.options.display.max_rows)"
   ]
  },
  {
   "cell_type": "code",
   "execution_count": 9,
   "id": "cfd548d2-b205-4167-b98d-83dc4afec995",
   "metadata": {
    "tags": []
   },
   "outputs": [
    {
     "name": "stdout",
     "output_type": "stream",
     "text": [
      "   33  00;3  00;1 00;1.1 00;1.2 00;1.3 00;1.4   00\n",
      "0   2  00;2  00;2   00;2   00;2   00;2   00;2  0.0\n",
      "1   4  00;4  00;4   00;4   00;4   00;4   00;4  0.0\n",
      "2   2  00;4  00;4   00;4   00;4  00;;4     00  NaN\n",
      "3   5  00;5  00;5   00;5   00;7   00;5   00;5  0.0\n",
      "4   6  00;6  00;6   00;6  00;;6   00;6     00  NaN\n",
      "5   7  00;7  00;7   00;7  00;;7   00;7     00  NaN\n"
     ]
    }
   ],
   "source": [
    "pd.options.display.max_rows = 9999\n",
    "df = pd.read_csv('test_excel.csv')\n",
    "print(df)"
   ]
  },
  {
   "cell_type": "markdown",
   "id": "5ad1835c-7108-44d7-b560-baad386c8007",
   "metadata": {},
   "source": [
    "## Data Cleaning"
   ]
  },
  {
   "cell_type": "markdown",
   "id": "0d2cfbf9-a1ba-44ba-9e5b-30684610a59d",
   "metadata": {},
   "source": [
    "##### Remove Rows"
   ]
  },
  {
   "cell_type": "code",
   "execution_count": 14,
   "id": "3c76f361-9165-4fe0-bb05-0459766f0cd2",
   "metadata": {
    "tags": []
   },
   "outputs": [
    {
     "name": "stdout",
     "output_type": "stream",
     "text": [
      "   Duration;Date  ;Pulse ;Maxpulse;Calories\n",
      "0             60;'2020/12/01';110;130;409.1\n",
      "1             60;'2020/12/02';117;145;479.0\n",
      "2             60;'2020/12/03';103;135;340.0\n",
      "3             45;'2020/12/04';109;175;282.4\n",
      "4             45;'2020/12/05';117;148;406.0\n",
      "5             60;'2020/12/06';102;127;300.0\n",
      "6             60;'2020/12/07';110;136;374.0\n",
      "7            450;'2020/12/08';104;134;253.3\n",
      "8             30;'2020/12/09';109;133;195.1\n",
      "9              60;'2020/12/10';98;124;269.0\n",
      "10            60;'2020/12/11';103;147;329.3\n",
      "11            60;'2020/12/12';100;120;250.7\n",
      "12            60;'2020/12/12';100;120;250.7\n",
      "13            60;'2020/12/13';106;128;345.3\n",
      "14            60;'2020/12/14';104;132;379.3\n",
      "15             60;'2020/12/15';98;123;275.0\n",
      "16             60;'2020/12/16';98;120;215.2\n",
      "17            60;'2020/12/17';100;120;300.0\n",
      "18                  45;'2020/12/18';90;112;\n",
      "19            60;'2020/12/19';103;123;323.0\n",
      "20             45;'2020/12/20';97;125;243.0\n",
      "21            60;'2020/12/21';108;131;364.2\n",
      "22                        45;;100;119;282.0\n",
      "23            60;'2020/12/23';130;101;300.0\n",
      "24            45;'2020/12/24';105;132;246.0\n",
      "25            60;'2020/12/25';102;126;334.5\n",
      "26              60;26.12.2020;100;120;250.0\n",
      "27             60;'2020/12/27';92;118;241.0\n",
      "28                 60;'2020/12/28';103;132;\n",
      "29            60;'2020/12/29';100;132;280.0\n",
      "30            60;'2020/12/30';102;129;380.3\n",
      "31             60;'2020/12/31';92;115;243.0\n"
     ]
    }
   ],
   "source": [
    "df = pd.read_csv('DataCleaning_dataset.csv')\n",
    "new_df = df.dropna()\n",
    "print(new_df)"
   ]
  },
  {
   "cell_type": "code",
   "execution_count": null,
   "id": "909c1e1d-82fe-4e7e-a41a-a3ef8c97d628",
   "metadata": {},
   "outputs": [],
   "source": []
  }
 ],
 "metadata": {
  "kernelspec": {
   "display_name": "Python 3 (ipykernel)",
   "language": "python",
   "name": "python3"
  },
  "language_info": {
   "codemirror_mode": {
    "name": "ipython",
    "version": 3
   },
   "file_extension": ".py",
   "mimetype": "text/x-python",
   "name": "python",
   "nbconvert_exporter": "python",
   "pygments_lexer": "ipython3",
   "version": "3.11.5"
  }
 },
 "nbformat": 4,
 "nbformat_minor": 5
}
